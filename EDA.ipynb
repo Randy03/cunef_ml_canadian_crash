{
 "cells": [
  {
   "cell_type": "code",
   "execution_count": 1,
   "id": "electrical-breast",
   "metadata": {},
   "outputs": [],
   "source": [
    "import pandas as pd\n",
    "import requests\n",
    "from pandas_profiling import ProfileReport\n",
    "import sweetviz as sv\n",
    "import numpy as np"
   ]
  },
  {
   "cell_type": "code",
   "execution_count": 2,
   "id": "quantitative-forestry",
   "metadata": {},
   "outputs": [],
   "source": [
    "unnecessary_columns = ['V_ID','P_ID','C_SEV','C_YEAR','P_USER','P_PSN','V_YEAR','P_ISEV']"
   ]
  },
  {
   "cell_type": "code",
   "execution_count": 25,
   "id": "extra-phrase",
   "metadata": {},
   "outputs": [],
   "source": [
    "data = pd.read_csv('NCDB_1999_to_2014.csv',low_memory=False)"
   ]
  },
  {
   "cell_type": "code",
   "execution_count": 26,
   "id": "organized-swift",
   "metadata": {
    "scrolled": false
   },
   "outputs": [
    {
     "data": {
      "text/html": [
       "<div>\n",
       "<style scoped>\n",
       "    .dataframe tbody tr th:only-of-type {\n",
       "        vertical-align: middle;\n",
       "    }\n",
       "\n",
       "    .dataframe tbody tr th {\n",
       "        vertical-align: top;\n",
       "    }\n",
       "\n",
       "    .dataframe thead th {\n",
       "        text-align: right;\n",
       "    }\n",
       "</style>\n",
       "<table border=\"1\" class=\"dataframe\">\n",
       "  <thead>\n",
       "    <tr style=\"text-align: right;\">\n",
       "      <th></th>\n",
       "      <th>C_YEAR</th>\n",
       "      <th>C_MNTH</th>\n",
       "      <th>C_WDAY</th>\n",
       "      <th>C_HOUR</th>\n",
       "      <th>C_SEV</th>\n",
       "      <th>C_VEHS</th>\n",
       "      <th>C_CONF</th>\n",
       "      <th>C_RCFG</th>\n",
       "      <th>C_WTHR</th>\n",
       "      <th>C_RSUR</th>\n",
       "      <th>...</th>\n",
       "      <th>V_ID</th>\n",
       "      <th>V_TYPE</th>\n",
       "      <th>V_YEAR</th>\n",
       "      <th>P_ID</th>\n",
       "      <th>P_SEX</th>\n",
       "      <th>P_AGE</th>\n",
       "      <th>P_PSN</th>\n",
       "      <th>P_ISEV</th>\n",
       "      <th>P_SAFE</th>\n",
       "      <th>P_USER</th>\n",
       "    </tr>\n",
       "  </thead>\n",
       "  <tbody>\n",
       "    <tr>\n",
       "      <th>0</th>\n",
       "      <td>1999</td>\n",
       "      <td>01</td>\n",
       "      <td>1</td>\n",
       "      <td>20</td>\n",
       "      <td>2</td>\n",
       "      <td>02</td>\n",
       "      <td>34</td>\n",
       "      <td>UU</td>\n",
       "      <td>1</td>\n",
       "      <td>5</td>\n",
       "      <td>...</td>\n",
       "      <td>01</td>\n",
       "      <td>06</td>\n",
       "      <td>1990</td>\n",
       "      <td>01</td>\n",
       "      <td>M</td>\n",
       "      <td>41</td>\n",
       "      <td>11</td>\n",
       "      <td>1</td>\n",
       "      <td>UU</td>\n",
       "      <td>1</td>\n",
       "    </tr>\n",
       "    <tr>\n",
       "      <th>1</th>\n",
       "      <td>1999</td>\n",
       "      <td>01</td>\n",
       "      <td>1</td>\n",
       "      <td>20</td>\n",
       "      <td>2</td>\n",
       "      <td>02</td>\n",
       "      <td>34</td>\n",
       "      <td>UU</td>\n",
       "      <td>1</td>\n",
       "      <td>5</td>\n",
       "      <td>...</td>\n",
       "      <td>02</td>\n",
       "      <td>01</td>\n",
       "      <td>1987</td>\n",
       "      <td>01</td>\n",
       "      <td>M</td>\n",
       "      <td>19</td>\n",
       "      <td>11</td>\n",
       "      <td>1</td>\n",
       "      <td>UU</td>\n",
       "      <td>1</td>\n",
       "    </tr>\n",
       "    <tr>\n",
       "      <th>2</th>\n",
       "      <td>1999</td>\n",
       "      <td>01</td>\n",
       "      <td>1</td>\n",
       "      <td>20</td>\n",
       "      <td>2</td>\n",
       "      <td>02</td>\n",
       "      <td>34</td>\n",
       "      <td>UU</td>\n",
       "      <td>1</td>\n",
       "      <td>5</td>\n",
       "      <td>...</td>\n",
       "      <td>02</td>\n",
       "      <td>01</td>\n",
       "      <td>1987</td>\n",
       "      <td>02</td>\n",
       "      <td>F</td>\n",
       "      <td>20</td>\n",
       "      <td>13</td>\n",
       "      <td>2</td>\n",
       "      <td>02</td>\n",
       "      <td>2</td>\n",
       "    </tr>\n",
       "    <tr>\n",
       "      <th>3</th>\n",
       "      <td>1999</td>\n",
       "      <td>01</td>\n",
       "      <td>1</td>\n",
       "      <td>08</td>\n",
       "      <td>2</td>\n",
       "      <td>01</td>\n",
       "      <td>01</td>\n",
       "      <td>UU</td>\n",
       "      <td>5</td>\n",
       "      <td>3</td>\n",
       "      <td>...</td>\n",
       "      <td>01</td>\n",
       "      <td>01</td>\n",
       "      <td>1986</td>\n",
       "      <td>01</td>\n",
       "      <td>M</td>\n",
       "      <td>46</td>\n",
       "      <td>11</td>\n",
       "      <td>1</td>\n",
       "      <td>UU</td>\n",
       "      <td>1</td>\n",
       "    </tr>\n",
       "    <tr>\n",
       "      <th>4</th>\n",
       "      <td>1999</td>\n",
       "      <td>01</td>\n",
       "      <td>1</td>\n",
       "      <td>08</td>\n",
       "      <td>2</td>\n",
       "      <td>01</td>\n",
       "      <td>01</td>\n",
       "      <td>UU</td>\n",
       "      <td>5</td>\n",
       "      <td>3</td>\n",
       "      <td>...</td>\n",
       "      <td>99</td>\n",
       "      <td>NN</td>\n",
       "      <td>NNNN</td>\n",
       "      <td>01</td>\n",
       "      <td>M</td>\n",
       "      <td>05</td>\n",
       "      <td>99</td>\n",
       "      <td>2</td>\n",
       "      <td>UU</td>\n",
       "      <td>3</td>\n",
       "    </tr>\n",
       "  </tbody>\n",
       "</table>\n",
       "<p>5 rows × 22 columns</p>\n",
       "</div>"
      ],
      "text/plain": [
       "   C_YEAR C_MNTH C_WDAY C_HOUR  C_SEV C_VEHS C_CONF C_RCFG C_WTHR C_RSUR  ...  \\\n",
       "0    1999     01      1     20      2     02     34     UU      1      5  ...   \n",
       "1    1999     01      1     20      2     02     34     UU      1      5  ...   \n",
       "2    1999     01      1     20      2     02     34     UU      1      5  ...   \n",
       "3    1999     01      1     08      2     01     01     UU      5      3  ...   \n",
       "4    1999     01      1     08      2     01     01     UU      5      3  ...   \n",
       "\n",
       "  V_ID V_TYPE V_YEAR P_ID P_SEX P_AGE P_PSN P_ISEV P_SAFE P_USER  \n",
       "0   01     06   1990   01     M    41    11      1     UU      1  \n",
       "1   02     01   1987   01     M    19    11      1     UU      1  \n",
       "2   02     01   1987   02     F    20    13      2     02      2  \n",
       "3   01     01   1986   01     M    46    11      1     UU      1  \n",
       "4   99     NN   NNNN   01     M    05    99      2     UU      3  \n",
       "\n",
       "[5 rows x 22 columns]"
      ]
     },
     "execution_count": 26,
     "metadata": {},
     "output_type": "execute_result"
    }
   ],
   "source": [
    "data.head()"
   ]
  },
  {
   "cell_type": "code",
   "execution_count": 27,
   "id": "satisfactory-wilson",
   "metadata": {},
   "outputs": [],
   "source": [
    "#Agregar columna con cantidad de personas por accidente\n",
    "collision_columns = [col for col in data.columns if col[0]==\"C\"]\n",
    "group_by_columns = collision_columns[:]\n",
    "group_by_columns.append('P_ID')\n",
    "data = data.merge(data[group_by_columns].groupby(group_by_columns).size().reset_index().drop('P_ID',axis=1).rename(columns={0:\"A_PERS\"}),on=collision_columns)"
   ]
  },
  {
   "cell_type": "code",
   "execution_count": 28,
   "id": "parental-humidity",
   "metadata": {},
   "outputs": [
    {
     "name": "stdout",
     "output_type": "stream",
     "text": [
      "Numero de registros: 13672837\n",
      "Numero de columnas: 23\n"
     ]
    }
   ],
   "source": [
    "print(f'Numero de registros: {data.shape[0]}')\n",
    "print(f'Numero de columnas: {data.shape[1]}')"
   ]
  },
  {
   "cell_type": "code",
   "execution_count": 29,
   "id": "previous-japanese",
   "metadata": {
    "scrolled": true
   },
   "outputs": [
    {
     "data": {
      "text/plain": [
       "{'C_YEAR': dtype('int64'),\n",
       " 'C_MNTH': dtype('O'),\n",
       " 'C_WDAY': dtype('O'),\n",
       " 'C_HOUR': dtype('O'),\n",
       " 'C_SEV': dtype('int64'),\n",
       " 'C_VEHS': dtype('O'),\n",
       " 'C_CONF': dtype('O'),\n",
       " 'C_RCFG': dtype('O'),\n",
       " 'C_WTHR': dtype('O'),\n",
       " 'C_RSUR': dtype('O'),\n",
       " 'C_RALN': dtype('O'),\n",
       " 'C_TRAF': dtype('O'),\n",
       " 'V_ID': dtype('O'),\n",
       " 'V_TYPE': dtype('O'),\n",
       " 'V_YEAR': dtype('O'),\n",
       " 'P_ID': dtype('O'),\n",
       " 'P_SEX': dtype('O'),\n",
       " 'P_AGE': dtype('O'),\n",
       " 'P_PSN': dtype('O'),\n",
       " 'P_ISEV': dtype('O'),\n",
       " 'P_SAFE': dtype('O'),\n",
       " 'P_USER': dtype('O'),\n",
       " 'A_PERS': dtype('int64')}"
      ]
     },
     "execution_count": 29,
     "metadata": {},
     "output_type": "execute_result"
    }
   ],
   "source": [
    "data.dtypes.to_dict()"
   ]
  },
  {
   "cell_type": "code",
   "execution_count": 30,
   "id": "sublime-moment",
   "metadata": {},
   "outputs": [],
   "source": [
    "nas = [\"UU\",\"XX\",\"U\",\"X\",\"XXXX\",\"NN\",\"NNNN\",\"N\",\"UUUU\"]\n",
    "others = {\n",
    "    \"P_SAFE\" : \"14\",\n",
    "    \"P_PSN\": \"100\",\n",
    "    \"V_TYPE\": \"24\",\n",
    "    \"C_TRAF\": \"19\",\n",
    "    \"C_RALN\": \"7\",\n",
    "    \"C_RSUR\": \"10\",\n",
    "    \"C_WTHR\": \"8\",\n",
    "    \"C_RCFG\": \"13\",\n",
    "    \"C_CONF\": \"42\"\n",
    "}\n",
    "int_types = [\"P_AGE\",\"A_VAGE\",\"A_PERS\"]\n",
    "categories = [col for col in data.columns if col not in int_types + unnecessary_columns]\n",
    "target_columns = [\"C_SEV\",\"P_ISEV\"]"
   ]
  },
  {
   "cell_type": "code",
   "execution_count": 31,
   "id": "welsh-spirituality",
   "metadata": {},
   "outputs": [],
   "source": [
    "#quedarse solo con los drivers\n",
    "data = data[data['P_PSN']==\"11\"]"
   ]
  },
  {
   "cell_type": "code",
   "execution_count": 32,
   "id": "great-maine",
   "metadata": {},
   "outputs": [
    {
     "name": "stdout",
     "output_type": "stream",
     "text": [
      "UU|XX|U|X|XXXX|NN|NNNN|N|UUUU\n"
     ]
    }
   ],
   "source": [
    "print(\"|\".join(nas))"
   ]
  },
  {
   "cell_type": "code",
   "execution_count": 33,
   "id": "novel-while",
   "metadata": {},
   "outputs": [],
   "source": [
    "#data['C_MNTH'].replace(to_replace=rf'/^({\"|\".join(nas)})$/',value=pd.NA,regex=True)\n",
    "#data['C_MNTH'].replace(to_replace=rf'^({\"|\".join(nas)})',value=pd.NA,regex=True)"
   ]
  },
  {
   "cell_type": "code",
   "execution_count": 34,
   "id": "massive-wealth",
   "metadata": {
    "scrolled": true
   },
   "outputs": [],
   "source": [
    "#for na in nas:\n",
    "#    data[categories] = data[categories].replace(na,pd.NA)\n",
    "\n",
    "data[categories] = data[categories].replace(to_replace=rf'^({\"|\".join(nas)})',value=pd.NA,regex=True)\n",
    "\n",
    "for key,value in others.items():\n",
    "    data[key] = data[key].replace(to_replace=r'^Q.*', value=value, regex=True)\n",
    "    \n",
    "#data.replace(to_replace=r'^[A-Z].*',value=np.nan, regex=True,inplace=True)"
   ]
  },
  {
   "cell_type": "code",
   "execution_count": 35,
   "id": "serial-conversion",
   "metadata": {},
   "outputs": [
    {
     "data": {
      "text/plain": [
       "['C_MNTH',\n",
       " 'C_WDAY',\n",
       " 'C_HOUR',\n",
       " 'C_VEHS',\n",
       " 'C_CONF',\n",
       " 'C_RCFG',\n",
       " 'C_WTHR',\n",
       " 'C_RSUR',\n",
       " 'C_RALN',\n",
       " 'C_TRAF',\n",
       " 'V_TYPE',\n",
       " 'P_SEX',\n",
       " 'P_SAFE']"
      ]
     },
     "execution_count": 35,
     "metadata": {},
     "output_type": "execute_result"
    }
   ],
   "source": [
    "categories"
   ]
  },
  {
   "cell_type": "code",
   "execution_count": 36,
   "id": "mechanical-irish",
   "metadata": {},
   "outputs": [
    {
     "data": {
      "text/plain": [
       "0             01\n",
       "1             01\n",
       "2             01\n",
       "3             01\n",
       "6             01\n",
       "            ... \n",
       "13672827    <NA>\n",
       "13672828    <NA>\n",
       "13672829    <NA>\n",
       "13672830    <NA>\n",
       "13672832    <NA>\n",
       "Name: C_MNTH, Length: 7620216, dtype: object"
      ]
     },
     "execution_count": 36,
     "metadata": {},
     "output_type": "execute_result"
    }
   ],
   "source": [
    "data['C_MNTH']"
   ]
  },
  {
   "cell_type": "code",
   "execution_count": 37,
   "id": "certain-functionality",
   "metadata": {},
   "outputs": [],
   "source": [
    "#agregar columna con antiguedad del coche\n",
    "data['A_VAGE'] = data['C_YEAR'] - pd.to_numeric(data['V_YEAR'], errors='coerce')"
   ]
  },
  {
   "cell_type": "code",
   "execution_count": 38,
   "id": "funded-drove",
   "metadata": {},
   "outputs": [],
   "source": [
    "#convertir las horas en 4 categorias\n",
    "def transform_hour(value):\n",
    "    value = pd.to_numeric(value,errors='coerce')\n",
    "    if value >= 0 and value<6:\n",
    "        return '0'\n",
    "    if value >= 6 and value<12:\n",
    "        return '1'\n",
    "    if value >= 12 and value<18:\n",
    "        return '2'\n",
    "    if value >= 18 and value<24:\n",
    "        return '3'\n",
    "    return pd.NA\n",
    "\n",
    "data['C_HOUR'] = data['C_HOUR'].apply(transform_hour) \n",
    "    "
   ]
  },
  {
   "cell_type": "code",
   "execution_count": 39,
   "id": "unlike-reproduction",
   "metadata": {},
   "outputs": [],
   "source": [
    "data[int_types] = data[int_types].apply(pd.to_numeric, errors='coerce',downcast='integer')\n",
    "data[categories] = data[categories].astype('category')"
   ]
  },
  {
   "cell_type": "code",
   "execution_count": 40,
   "id": "moved-alabama",
   "metadata": {},
   "outputs": [],
   "source": [
    "data = data.rename(columns={'P_SEX':'A_DSEX','P_AGE':\"A_DAGE\",'C_HOUR':'A_CHUR'})"
   ]
  },
  {
   "cell_type": "code",
   "execution_count": 41,
   "id": "lucky-location",
   "metadata": {},
   "outputs": [],
   "source": [
    "data = data.drop(unnecessary_columns,1)"
   ]
  },
  {
   "cell_type": "code",
   "execution_count": 42,
   "id": "driving-nomination",
   "metadata": {},
   "outputs": [
    {
     "data": {
      "text/plain": [
       "0            01\n",
       "1            01\n",
       "2            01\n",
       "3            01\n",
       "6            01\n",
       "           ... \n",
       "13672827    NaN\n",
       "13672828    NaN\n",
       "13672829    NaN\n",
       "13672830    NaN\n",
       "13672832    NaN\n",
       "Name: C_MNTH, Length: 7620216, dtype: category\n",
       "Categories (12, object): ['01', '02', '03', '04', ..., '09', '10', '11', '12']"
      ]
     },
     "execution_count": 42,
     "metadata": {},
     "output_type": "execute_result"
    }
   ],
   "source": [
    "data[\"C_MNTH\"]"
   ]
  },
  {
   "cell_type": "code",
   "execution_count": 43,
   "id": "experimental-perth",
   "metadata": {},
   "outputs": [
    {
     "data": {
      "text/plain": [
       "{'C_MNTH': CategoricalDtype(categories=['01', '02', '03', '04', '05', '06', '07', '08', '09', '10',\n",
       "                   '11', '12'],\n",
       "                  ordered=False),\n",
       " 'C_WDAY': CategoricalDtype(categories=['1', '2', '3', '4', '5', '6', '7'], ordered=False),\n",
       " 'A_CHUR': CategoricalDtype(categories=['0', '1', '2', '3'], ordered=False),\n",
       " 'C_VEHS': CategoricalDtype(categories=['01', '02', '03', '04', '05', '06', '07', '08', '09', '10',\n",
       "                   '11', '12', '13', '14', '15', '16', '17', '18', '19', '20',\n",
       "                   '21', '22', '23', '24', '25', '26', '27', '28', '29', '30',\n",
       "                   '31', '32', '33', '34', '35', '36', '37', '38', '39', '40',\n",
       "                   '41', '43', '44', '46', '51', '54', '56', '57', '58', '71',\n",
       "                   '72', '77'],\n",
       "                  ordered=False),\n",
       " 'C_CONF': CategoricalDtype(categories=['01', '02', '03', '04', '05', '06', '21', '22', '23', '24',\n",
       "                   '25', '31', '32', '33', '34', '35', '36', '41', '42'],\n",
       "                  ordered=False),\n",
       " 'C_RCFG': CategoricalDtype(categories=['01', '02', '03', '04', '05', '06', '07', '08', '09', '10',\n",
       "                   '13'],\n",
       "                  ordered=False),\n",
       " 'C_WTHR': CategoricalDtype(categories=['1', '2', '3', '4', '5', '6', '7', '8'], ordered=False),\n",
       " 'C_RSUR': CategoricalDtype(categories=['1', '10', '2', '3', '4', '5', '6', '7', '8', '9'], ordered=False),\n",
       " 'C_RALN': CategoricalDtype(categories=['1', '2', '3', '4', '5', '6', '7'], ordered=False),\n",
       " 'C_TRAF': CategoricalDtype(categories=['01', '02', '03', '04', '05', '06', '07', '08', '09', '10',\n",
       "                   '11', '12', '13', '15', '16', '17', '18', '19'],\n",
       "                  ordered=False),\n",
       " 'V_TYPE': CategoricalDtype(categories=['01', '05', '06', '07', '08', '09', '10', '11', '14', '16',\n",
       "                   '17', '18', '19', '20', '21', '22', '23', '24'],\n",
       "                  ordered=False),\n",
       " 'A_DSEX': CategoricalDtype(categories=['F', 'M'], ordered=False),\n",
       " 'A_DAGE': dtype('float64'),\n",
       " 'P_SAFE': CategoricalDtype(categories=['01', '02', '09', '10', '11', '12', '13', '14'], ordered=False),\n",
       " 'A_PERS': dtype('int8'),\n",
       " 'A_VAGE': dtype('float64')}"
      ]
     },
     "execution_count": 43,
     "metadata": {},
     "output_type": "execute_result"
    }
   ],
   "source": [
    "data.dtypes.to_dict()"
   ]
  },
  {
   "cell_type": "code",
   "execution_count": null,
   "id": "elementary-invention",
   "metadata": {},
   "outputs": [],
   "source": [
    "#my_report = sv.analyze(data)\n",
    "#my_report.show_notebook()\n",
    "profile = ProfileReport(data, title=\"Crashes EDA\")\n",
    "profile.to_widgets()"
   ]
  },
  {
   "cell_type": "code",
   "execution_count": null,
   "id": "registered-thermal",
   "metadata": {},
   "outputs": [],
   "source": [
    "#data[\"C_MNTH\"].unique()"
   ]
  },
  {
   "cell_type": "code",
   "execution_count": null,
   "id": "vietnamese-logging",
   "metadata": {},
   "outputs": [],
   "source": [
    "#data[\"P_ISEV\"].isna().sum()"
   ]
  },
  {
   "cell_type": "code",
   "execution_count": null,
   "id": "conditional-sellers",
   "metadata": {},
   "outputs": [],
   "source": [
    "#data[\"A_VAGE\"].isna().sum()"
   ]
  },
  {
   "cell_type": "code",
   "execution_count": null,
   "id": "practical-vaccine",
   "metadata": {},
   "outputs": [],
   "source": [
    "#data[data[\"A_PCOUNT\"]==77]"
   ]
  },
  {
   "cell_type": "code",
   "execution_count": 18,
   "id": "finished-bridge",
   "metadata": {},
   "outputs": [
    {
     "name": "stdout",
     "output_type": "stream",
     "text": [
      "['C_MNTH', 'C_WDAY', 'C_HOUR', 'C_VEHS', 'C_CONF', 'C_RCFG', 'C_WTHR', 'C_RSUR', 'C_RALN', 'C_TRAF', 'V_TYPE', 'P_SEX', 'P_SAFE']\n"
     ]
    }
   ],
   "source": [
    "print(categories)"
   ]
  },
  {
   "cell_type": "code",
   "execution_count": null,
   "id": "reasonable-failure",
   "metadata": {},
   "outputs": [],
   "source": []
  }
 ],
 "metadata": {
  "kernelspec": {
   "display_name": "Python 3",
   "language": "python",
   "name": "python3"
  },
  "language_info": {
   "codemirror_mode": {
    "name": "ipython",
    "version": 3
   },
   "file_extension": ".py",
   "mimetype": "text/x-python",
   "name": "python",
   "nbconvert_exporter": "python",
   "pygments_lexer": "ipython3",
   "version": "3.7.9"
  }
 },
 "nbformat": 4,
 "nbformat_minor": 5
}
