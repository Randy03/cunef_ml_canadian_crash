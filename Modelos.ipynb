{
 "cells": [
  {
   "cell_type": "code",
   "execution_count": 1,
   "id": "constitutional-profile",
   "metadata": {},
   "outputs": [],
   "source": [
    "import pandas as pd\n",
    "import numpy as np\n",
    "from sklearn.model_selection import train_test_split\n",
    "from sklearn.preprocessing import StandardScaler, OrdinalEncoder,OneHotEncoder\n",
    "from sklearn.impute import SimpleImputer\n",
    "from sklearn.compose import ColumnTransformer\n",
    "from sklearn.pipeline import Pipeline\n",
    "from sklearn.ensemble import RandomForestRegressor,RandomForestClassifier\n",
    "from sklearn.linear_model import Lasso, LogisticRegression, LinearRegression\n",
    "from sklearn.feature_selection import SelectFromModel, RFE\n",
    "from sklearn.metrics import r2_score\n",
    "from sklearn import svm\n",
    "import category_encoders as ce\n",
    "\n",
    "from multiprocessing import Process,Pool\n",
    "import copy\n",
    "import time\n",
    "import os\n",
    "import threading\n",
    "from pathlib import Path\n",
    "from joblib import dump, load\n",
    "import re"
   ]
  },
  {
   "cell_type": "code",
   "execution_count": 2,
   "id": "confirmed-brush",
   "metadata": {},
   "outputs": [],
   "source": [
    "numeric_features = ['C_VEHS', 'A_DAGE', 'A_PERS', 'A_VAGE']\n",
    "categorical_features = ['C_MNTH', 'C_WDAY', 'A_CHUR', 'C_CONF', 'C_RCFG', 'C_WTHR','C_RSUR','C_RALN','C_TRAF','V_TYPE','A_DSEX','P_SAFE']\n",
    "\n",
    "dtypes = {}\n",
    "for feature in numeric_features:\n",
    "    dtypes[feature] = 'float' \n",
    "for feature in categorical_features:\n",
    "    dtypes[feature] = 'str' \n",
    "\n",
    "data = pd.read_csv('crash_transformed.csv',dtype=dtypes,)\n",
    "#data[categorical_features] = data[categorical_features].astype('category')\n",
    "#data[numeric_features] = data[numeric_features].astype('float64')"
   ]
  },
  {
   "cell_type": "code",
   "execution_count": 3,
   "id": "palestinian-synthetic",
   "metadata": {},
   "outputs": [
    {
     "data": {
      "text/plain": [
       "{'C_MNTH': dtype('O'),\n",
       " 'C_WDAY': dtype('O'),\n",
       " 'A_CHUR': dtype('O'),\n",
       " 'C_SEV': dtype('int64'),\n",
       " 'C_VEHS': dtype('float64'),\n",
       " 'C_CONF': dtype('O'),\n",
       " 'C_RCFG': dtype('O'),\n",
       " 'C_WTHR': dtype('O'),\n",
       " 'C_RSUR': dtype('O'),\n",
       " 'C_RALN': dtype('O'),\n",
       " 'C_TRAF': dtype('O'),\n",
       " 'V_TYPE': dtype('O'),\n",
       " 'A_DSEX': dtype('O'),\n",
       " 'A_DAGE': dtype('float64'),\n",
       " 'P_SAFE': dtype('O'),\n",
       " 'A_PERS': dtype('float64'),\n",
       " 'A_VAGE': dtype('float64')}"
      ]
     },
     "execution_count": 3,
     "metadata": {},
     "output_type": "execute_result"
    }
   ],
   "source": [
    "data.dtypes.to_dict()"
   ]
  },
  {
   "cell_type": "code",
   "execution_count": 4,
   "id": "ranking-representation",
   "metadata": {},
   "outputs": [],
   "source": [
    "X = data.drop('C_SEV',axis=1)\n",
    "y = data['C_SEV']"
   ]
  },
  {
   "cell_type": "code",
   "execution_count": 5,
   "id": "manual-speech",
   "metadata": {},
   "outputs": [],
   "source": [
    "X_train, X_test, y_train, y_test = train_test_split(X, y, test_size=0.2, random_state=123)"
   ]
  },
  {
   "cell_type": "code",
   "execution_count": 6,
   "id": "appointed-magazine",
   "metadata": {},
   "outputs": [],
   "source": [
    "numeric_transformer = Pipeline(steps=[\n",
    "    ('imputer', SimpleImputer(strategy='median')),\n",
    "    ('scaler', StandardScaler())])\n",
    "\n",
    "one_hot_categories = ['C_MNTH', 'C_WDAY', 'A_CHUR', 'A_DSEX']\n",
    "cat_boost_categories = ['C_CONF', 'C_RCFG', 'C_WTHR','C_RSUR','C_RALN','C_TRAF','V_TYPE','P_SAFE']\n",
    "\n",
    "categorical_transformer_one_hot = Pipeline(steps=[\n",
    "    ('imputer', SimpleImputer(strategy='constant', fill_value='missing')),\n",
    "    ('encoder', OneHotEncoder(handle_unknown='ignore'))])\n",
    "\n",
    "categorical_transformer_cat_boost = Pipeline(steps=[\n",
    "    ('imputer', SimpleImputer(strategy='constant', fill_value='missing')),\n",
    "    ('encoder', ce.CatBoostEncoder())])"
   ]
  },
  {
   "cell_type": "code",
   "execution_count": 7,
   "id": "downtown-bradford",
   "metadata": {},
   "outputs": [],
   "source": [
    "preprocessor = ColumnTransformer(\n",
    "    transformers=[\n",
    "        ('num', numeric_transformer, numeric_features),\n",
    "        ('cat1', categorical_transformer_one_hot, one_hot_categories),\n",
    "        ('cat2', categorical_transformer_one_hot, cat_boost_categories)])"
   ]
  },
  {
   "cell_type": "code",
   "execution_count": 8,
   "id": "coupled-notification",
   "metadata": {},
   "outputs": [],
   "source": [
    "#SelectFromModel(, threshold = 0.08)\n",
    "classifiers = [LogisticRegression(C=1, penalty='l1', solver='liblinear',n_jobs=-1),\n",
    "               RandomForestClassifier(n_jobs=-1),\n",
    "               LinearRegression(n_jobs=-1),\n",
    "               svm.SVC(kernel='linear')]"
   ]
  },
  {
   "cell_type": "code",
   "execution_count": 9,
   "id": "labeled-model",
   "metadata": {},
   "outputs": [],
   "source": [
    "pipelines = []\n",
    "        \n",
    "for classifier in classifiers:\n",
    "    pipelines.append(\n",
    "        Pipeline(steps = [('preprocessor', preprocessor),('classifier',classifier)],memory='./cache'))\n",
    "\n",
    "\n",
    "def fit_pipeline(pipe,xtrain,xtest,ytrain,ytest):\n",
    "    model_folder = './saved_models/'\n",
    "    file_name = re.sub('[^a-zA-Z0-9 \\n\\.]', '', str(pipe.named_steps['classifier'])[:15])\n",
    "    print(file_name)\n",
    "    if not Path(model_folder+file_name+'.joblib').is_file():\n",
    "        start_time = time.time()\n",
    "        print('Training started')\n",
    "        pipe.fit(xtrain, ytrain)\n",
    "        print(f'train duration {(time.time() - start_time)}')\n",
    "        print(\"model score: %.3f\" % pipe.score(xtest, ytest))\n",
    "        with open(file_name+'.txt', 'w') as f:\n",
    "            f.write('Model '+str(pipe.named_steps['classifier']))\n",
    "            f.write('\\n')\n",
    "            f.write(f'train duration {(time.time() - start_time)}')\n",
    "            f.write('\\n')\n",
    "            f.write(\"model score: %.3f\" % pipe.score(xtest, ytest))\n",
    "        dump(pipe.named_steps['classifier'], model_folder+file_name+'.joblib')\n",
    "    print('Model trained')\n",
    "\n"
   ]
  },
  {
   "cell_type": "code",
   "execution_count": 10,
   "id": "first-throw",
   "metadata": {},
   "outputs": [],
   "source": [
    "parallelize = False\n",
    "threading = False"
   ]
  },
  {
   "cell_type": "code",
   "execution_count": null,
   "id": "labeled-trauma",
   "metadata": {},
   "outputs": [
    {
     "name": "stdout",
     "output_type": "stream",
     "text": [
      "Secuential\n",
      "LogisticRegress\n",
      "Model trained\n",
      "RandomForestCla\n",
      "Model trained\n",
      "LinearRegressio\n",
      "Model trained\n",
      "SVCkernellin\n",
      "Training started\n"
     ]
    }
   ],
   "source": [
    "if parallelize:\n",
    "    #%%\n",
    "    import multiprocessing\n",
    "    from workers import _fit_pipeline\n",
    "    print('Multiprocess')\n",
    "    params = [(pipe,X_train, X_test, y_train, y_test) for pipe in pipelines]\n",
    "    #%%\n",
    "    if __name__ ==  '__main__': \n",
    "        pool = multiprocessing.Pool()\n",
    "        pool.map(_fit_pipeline, params)\n",
    "        pool.close()\n",
    "        pool.join()\n",
    "elif threading:\n",
    "    print('Multithreading')\n",
    "    threads = []\n",
    "    params = [(pipe,X_train, X_test, y_train, y_test) for pipe in pipelines]\n",
    "    for pipe in pipelines:\n",
    "        t = threading.Thread(target=fit_pipeline,args=params)\n",
    "        threads.append(t)\n",
    "        t.start()\n",
    "else:\n",
    "    print(\"Secuential\")\n",
    "    for pipe in pipelines:\n",
    "        fit_pipeline(pipe,X_train, X_test, y_train, y_test)\n"
   ]
  },
  {
   "cell_type": "code",
   "execution_count": null,
   "id": "innovative-marsh",
   "metadata": {},
   "outputs": [],
   "source": []
  }
 ],
 "metadata": {
  "kernelspec": {
   "display_name": "Python 3",
   "language": "python",
   "name": "python3"
  },
  "language_info": {
   "codemirror_mode": {
    "name": "ipython",
    "version": 3
   },
   "file_extension": ".py",
   "mimetype": "text/x-python",
   "name": "python",
   "nbconvert_exporter": "python",
   "pygments_lexer": "ipython3",
   "version": "3.7.9"
  }
 },
 "nbformat": 4,
 "nbformat_minor": 5
}
