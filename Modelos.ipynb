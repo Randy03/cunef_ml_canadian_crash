{
 "cells": [
  {
   "cell_type": "code",
   "execution_count": 1,
   "id": "constitutional-profile",
   "metadata": {},
   "outputs": [],
   "source": [
    "import pandas as pd\n",
    "import numpy as np\n",
    "from sklearn.model_selection import train_test_split\n",
    "from sklearn.preprocessing import StandardScaler, OrdinalEncoder,OneHotEncoder\n",
    "from sklearn.impute import SimpleImputer\n",
    "from sklearn.compose import ColumnTransformer\n",
    "from sklearn.pipeline import Pipeline\n",
    "from sklearn.ensemble import RandomForestRegressor,RandomForestClassifier\n",
    "from sklearn.linear_model import Lasso, LogisticRegression\n",
    "from sklearn.feature_selection import SelectFromModel, RFE\n",
    "from sklearn.metrics import r2_score\n",
    "import category_encoders as ce"
   ]
  },
  {
   "cell_type": "code",
   "execution_count": 2,
   "id": "confirmed-brush",
   "metadata": {},
   "outputs": [],
   "source": [
    "numeric_features = ['C_VEHS', 'A_DAGE', 'A_PERS', 'A_VAGE']\n",
    "categorical_features = ['C_MNTH', 'C_WDAY', 'A_CHUR', 'C_CONF', 'C_RCFG', 'C_WTHR','C_RSUR','C_RALN','C_TRAF','V_TYPE','A_DSEX','P_SAFE']\n",
    "\n",
    "dtypes = {}\n",
    "for feature in numeric_features:\n",
    "    dtypes[feature] = 'float' \n",
    "for feature in categorical_features:\n",
    "    dtypes[feature] = 'str' \n",
    "\n",
    "data = pd.read_csv('crash_transformed.csv',dtype=dtypes,)\n",
    "data[categorical_features] = data[categorical_features].astype('category')"
   ]
  },
  {
   "cell_type": "code",
   "execution_count": 3,
   "id": "palestinian-synthetic",
   "metadata": {},
   "outputs": [
    {
     "data": {
      "text/plain": [
       "{'C_MNTH': CategoricalDtype(categories=['01', '02', '03', '04', '05', '06', '07', '08', '09', '10',\n",
       "                   '11', '12'],\n",
       "                  ordered=False),\n",
       " 'C_WDAY': CategoricalDtype(categories=['1', '2', '3', '4', '5', '6', '7'], ordered=False),\n",
       " 'A_CHUR': CategoricalDtype(categories=['0', '1', '2', '3'], ordered=False),\n",
       " 'C_SEV': dtype('int64'),\n",
       " 'C_VEHS': dtype('float64'),\n",
       " 'C_CONF': CategoricalDtype(categories=['01', '02', '03', '04', '05', '06', '21', '22', '23', '24',\n",
       "                   '25', '31', '32', '33', '34', '35', '36', '41', '42'],\n",
       "                  ordered=False),\n",
       " 'C_RCFG': CategoricalDtype(categories=['01', '02', '03', '04', '05', '06', '07', '08', '09', '10',\n",
       "                   '13'],\n",
       "                  ordered=False),\n",
       " 'C_WTHR': CategoricalDtype(categories=['1', '2', '3', '4', '5', '6', '7', '8'], ordered=False),\n",
       " 'C_RSUR': CategoricalDtype(categories=['1', '10', '2', '3', '4', '5', '6', '7', '8', '9'], ordered=False),\n",
       " 'C_RALN': CategoricalDtype(categories=['1', '2', '3', '4', '5', '6', '7'], ordered=False),\n",
       " 'C_TRAF': CategoricalDtype(categories=['01', '02', '03', '04', '05', '06', '07', '08', '09', '10',\n",
       "                   '11', '12', '13', '15', '16', '17', '18', '19'],\n",
       "                  ordered=False),\n",
       " 'V_TYPE': CategoricalDtype(categories=['01', '05', '06', '07', '08', '09', '10', '11', '14', '16',\n",
       "                   '17', '18', '19', '20', '21', '22', '23', '24'],\n",
       "                  ordered=False),\n",
       " 'A_DSEX': CategoricalDtype(categories=['F', 'M'], ordered=False),\n",
       " 'A_DAGE': dtype('float64'),\n",
       " 'P_SAFE': CategoricalDtype(categories=['01', '02', '09', '10', '11', '12', '13', '14'], ordered=False),\n",
       " 'A_PERS': dtype('float64'),\n",
       " 'A_VAGE': dtype('float64')}"
      ]
     },
     "execution_count": 3,
     "metadata": {},
     "output_type": "execute_result"
    }
   ],
   "source": [
    "data.dtypes.to_dict()"
   ]
  },
  {
   "cell_type": "code",
   "execution_count": 4,
   "id": "ranking-representation",
   "metadata": {},
   "outputs": [],
   "source": [
    "X = data.drop('C_SEV',axis=1)\n",
    "y = data['C_SEV']"
   ]
  },
  {
   "cell_type": "code",
   "execution_count": 5,
   "id": "manual-speech",
   "metadata": {},
   "outputs": [],
   "source": [
    "X_train, X_test, y_train, y_test = train_test_split(X, y, test_size=0.2, random_state=123)"
   ]
  },
  {
   "cell_type": "code",
   "execution_count": 6,
   "id": "appointed-magazine",
   "metadata": {},
   "outputs": [],
   "source": [
    "numeric_transformer = Pipeline(steps=[\n",
    "    ('imputer', SimpleImputer(strategy='mean')),\n",
    "    ('scaler', StandardScaler())])\n",
    "\n",
    "one_hot_categories = ['C_MNTH', 'C_WDAY', 'A_CHUR', 'A_DSEX']\n",
    "cat_boost_categories = ['C_CONF', 'C_RCFG', 'C_WTHR','C_RSUR','C_RALN','C_TRAF','V_TYPE','P_SAFE']\n",
    "\n",
    "categorical_transformer_one_hot = Pipeline(steps=[\n",
    "       ('imputer', SimpleImputer(strategy='most_frequent'))\n",
    "      ,('encoder', OneHotEncoder())])\n",
    "\n",
    "categorical_transformer_cat_boost = Pipeline(steps=[\n",
    "       ('imputer', SimpleImputer(strategy='most_frequent'))\n",
    "      ,('encoder', ce.CatBoostEncoder())])"
   ]
  },
  {
   "cell_type": "code",
   "execution_count": 7,
   "id": "downtown-bradford",
   "metadata": {},
   "outputs": [],
   "source": [
    "preprocessor = ColumnTransformer(\n",
    "    transformers=[\n",
    "        ('numeric', numeric_transformer, numeric_features),\n",
    "        ('categorical_one_hot', categorical_transformer_one_hot, one_hot_categories),\n",
    "        ('categorical_cat_booster', categorical_transformer_cat_boost, cat_boost_categories)])"
   ]
  },
  {
   "cell_type": "code",
   "execution_count": 8,
   "id": "coupled-notification",
   "metadata": {},
   "outputs": [],
   "source": [
    "classifiers = [SelectFromModel(LogisticRegression(C=1, penalty='l1', solver='liblinear',n_jobs=-1), threshold = 0.08),\n",
    "               RandomForestClassifier(n_jobs=-1)]"
   ]
  },
  {
   "cell_type": "code",
   "execution_count": null,
   "id": "labeled-model",
   "metadata": {},
   "outputs": [],
   "source": [
    "for classifier in classifiers:\n",
    "    pipe = Pipeline(steps = [\n",
    "        ('preprocessor', preprocessor),\n",
    "        ('classifier',classifier)])\n",
    "    pipe.fit(X_train, y_train)   \n",
    "    print(\"model score: %.3f\" % pipe.score(X_test, y_test))"
   ]
  },
  {
   "cell_type": "code",
   "execution_count": null,
   "id": "fossil-hayes",
   "metadata": {},
   "outputs": [],
   "source": []
  },
  {
   "cell_type": "code",
   "execution_count": null,
   "id": "confident-brown",
   "metadata": {},
   "outputs": [],
   "source": []
  },
  {
   "cell_type": "code",
   "execution_count": null,
   "id": "divided-original",
   "metadata": {},
   "outputs": [],
   "source": []
  }
 ],
 "metadata": {
  "kernelspec": {
   "display_name": "Python 3",
   "language": "python",
   "name": "python3"
  },
  "language_info": {
   "codemirror_mode": {
    "name": "ipython",
    "version": 3
   },
   "file_extension": ".py",
   "mimetype": "text/x-python",
   "name": "python",
   "nbconvert_exporter": "python",
   "pygments_lexer": "ipython3",
   "version": "3.7.9"
  }
 },
 "nbformat": 4,
 "nbformat_minor": 5
}
