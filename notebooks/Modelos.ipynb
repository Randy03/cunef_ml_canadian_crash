{
 "cells": [
  {
   "cell_type": "code",
   "execution_count": 28,
   "id": "constitutional-profile",
   "metadata": {},
   "outputs": [],
   "source": [
    "import pandas as pd\n",
    "import numpy as np\n",
    "import matplotlib.pyplot as plt\n",
    "from sklearn.model_selection import train_test_split\n",
    "from sklearn.preprocessing import StandardScaler, OrdinalEncoder,OneHotEncoder\n",
    "from sklearn.impute import SimpleImputer\n",
    "from sklearn.compose import ColumnTransformer\n",
    "from sklearn.pipeline import Pipeline, make_pipeline\n",
    "from sklearn.ensemble import RandomForestRegressor,RandomForestClassifier\n",
    "from sklearn.linear_model import Lasso, LogisticRegression, LinearRegression\n",
    "from sklearn.feature_selection import SelectFromModel, RFE\n",
    "from sklearn.metrics import classification_report, confusion_matrix, roc_curve, auc, silhouette_score, recall_score, precision_score, make_scorer,roc_auc_score, f1_score, precision_recall_curve, f1_score,r2_score,plot_confusion_matrix,precision_recall_fscore_support\n",
    "from sklearn import svm\n",
    "from sklearn.utils import resample\n",
    "from sklearn.base import BaseEstimator, TransformerMixin\n",
    "from sklearn.model_selection import GridSearchCV, RandomizedSearchCV\n",
    "from sklearn.decomposition import PCA,TruncatedSVD\n",
    "from sklearn.inspection import PartialDependenceDisplay\n",
    "import shap \n",
    "import category_encoders as ce\n",
    "from xgboost import XGBClassifier\n",
    "from lightgbm import LGBMClassifier\n",
    "import scikitplot as skplt\n",
    "\n",
    "from multiprocessing import Process,Pool\n",
    "import copy\n",
    "import time\n",
    "import os\n",
    "import threading\n",
    "from pathlib import Path\n",
    "from joblib import dump, load\n",
    "import re\n",
    "import warnings"
   ]
  },
  {
   "cell_type": "markdown",
   "id": "charged-middle",
   "metadata": {},
   "source": [
    "### Carga de datos\n",
    "\n"
   ]
  },
  {
   "cell_type": "code",
   "execution_count": 3,
   "id": "confirmed-brush",
   "metadata": {},
   "outputs": [],
   "source": [
    "target = 'C_SEV'\n",
    "numeric_features = ['C_VEHS', 'V_AGE','P_AGE','C_PERS']\n",
    "categorical_features = ['C_MNTH','C_WDAY','C_HOUR','C_CONF','C_RCFG','C_WTHR','C_RSUR','C_RALN','C_TRAF','P_SEX','P_SAFE','V_TYPE']\n",
    "file = 'crash_transformed_c_sev.csv'\n",
    "one_hot_categories = ['C_MNTH', 'C_WDAY', 'C_HOUR', 'P_SEX']\n",
    "target_categories = ['C_CONF', 'C_RCFG', 'C_WTHR','C_RSUR','C_RALN','C_TRAF','V_TYPE','P_SAFE']\n",
    "\n",
    "\n",
    "dtypes = {}\n",
    "for feature in numeric_features:\n",
    "    dtypes[feature] = 'float' \n",
    "for feature in categorical_features:\n",
    "    dtypes[feature] = 'str' \n",
    "\n",
    "\n",
    "data = pd.read_csv(f'./data/{file}',dtype=dtypes)"
   ]
  },
  {
   "cell_type": "code",
   "execution_count": 4,
   "id": "palestinian-synthetic",
   "metadata": {},
   "outputs": [
    {
     "data": {
      "text/plain": [
       "{'C_MNTH': dtype('O'),\n",
       " 'C_WDAY': dtype('O'),\n",
       " 'C_HOUR': dtype('O'),\n",
       " 'C_SEV': dtype('int64'),\n",
       " 'C_VEHS': dtype('float64'),\n",
       " 'C_CONF': dtype('O'),\n",
       " 'C_RCFG': dtype('O'),\n",
       " 'C_WTHR': dtype('O'),\n",
       " 'C_RSUR': dtype('O'),\n",
       " 'C_RALN': dtype('O'),\n",
       " 'C_TRAF': dtype('O'),\n",
       " 'V_TYPE': dtype('O'),\n",
       " 'P_SEX': dtype('O'),\n",
       " 'P_AGE': dtype('float64'),\n",
       " 'P_SAFE': dtype('O'),\n",
       " 'C_PERS': dtype('float64'),\n",
       " 'V_AGE': dtype('float64')}"
      ]
     },
     "execution_count": 4,
     "metadata": {},
     "output_type": "execute_result"
    }
   ],
   "source": [
    "data.dtypes.to_dict()"
   ]
  },
  {
   "cell_type": "code",
   "execution_count": 5,
   "id": "ranking-representation",
   "metadata": {},
   "outputs": [],
   "source": [
    "X = data.drop(target,axis=1)\n",
    "y = data[target]"
   ]
  },
  {
   "cell_type": "code",
   "execution_count": 6,
   "id": "manual-speech",
   "metadata": {},
   "outputs": [],
   "source": [
    "X_train, X_test, y_train, y_test = train_test_split(X, y, test_size=0.2, random_state=123)"
   ]
  },
  {
   "cell_type": "code",
   "execution_count": 7,
   "id": "amino-circle",
   "metadata": {},
   "outputs": [
    {
     "name": "stdout",
     "output_type": "stream",
     "text": [
      "Registros Sin muertes 3051543\n",
      "Registros Con muertes 45473\n"
     ]
    }
   ],
   "source": [
    "print(f'Registros Sin muertes {len(y_train[y_train==0])}')\n",
    "print(f'Registros Con muertes {len(y_train[y_train==1])}')"
   ]
  },
  {
   "cell_type": "markdown",
   "id": "driving-triumph",
   "metadata": {},
   "source": [
    "##### Subsample\n",
    "\n",
    "El target esta desbalanceado ya que tiene la cantidad de registros sin muertes es mucho mayor y esto afecta a la precision de la prediccion sobre los casos en donde si hay muertes. Por lo que se hara un subsample para que las dos labels del target tengan la misma cantidad de registros."
   ]
  },
  {
   "cell_type": "code",
   "execution_count": 8,
   "id": "straight-gibson",
   "metadata": {},
   "outputs": [
    {
     "data": {
      "text/plain": [
       "(90946, 16)"
      ]
     },
     "execution_count": 8,
     "metadata": {},
     "output_type": "execute_result"
    }
   ],
   "source": [
    "def subsample_data(X,y):\n",
    "    y_2 = resample(y[y==0], replace = True, n_samples = len(y[y==1]), random_state = 12345)\n",
    "    y_resampled = pd.concat([y[y==1],y_2])\n",
    "    data_resampled = X.join(y_resampled)\n",
    "    data_resampled = data_resampled.dropna(subset=[y.name])\n",
    "    _y = data_resampled[y.name].astype('int8')\n",
    "    _x = data_resampled.drop(target,axis=1)\n",
    "    return _x,_y\n",
    "\n",
    "X_train,y_train = subsample_data(X_train,y_train)\n",
    "X_train.shape"
   ]
  },
  {
   "cell_type": "markdown",
   "id": "independent-coast",
   "metadata": {},
   "source": [
    "### Evaluacion de modelos"
   ]
  },
  {
   "cell_type": "code",
   "execution_count": 9,
   "id": "appointed-magazine",
   "metadata": {},
   "outputs": [],
   "source": [
    "numeric_transformer = Pipeline(steps=[\n",
    "    ('imputer', SimpleImputer(strategy='median')),\n",
    "    ('scaler', StandardScaler())])\n",
    "\n",
    "\n",
    "categorical_transformer_one_hot = Pipeline(steps=[\n",
    "    ('imputer', SimpleImputer(strategy='constant', fill_value='missing')),\n",
    "    ('encoder', OneHotEncoder(handle_unknown='ignore'))])\n",
    "\n",
    "categorical_transformer_target = Pipeline(steps=[\n",
    "    #('imputer', SimpleImputer(strategy='constant', fill_value='missing')),\n",
    "    ('encoder', ce.CatBoostEncoder())])"
   ]
  },
  {
   "cell_type": "code",
   "execution_count": 10,
   "id": "downtown-bradford",
   "metadata": {},
   "outputs": [],
   "source": [
    "preprocessor = ColumnTransformer(\n",
    "    transformers=[\n",
    "        ('num', numeric_transformer, numeric_features),\n",
    "        ('cat1', categorical_transformer_one_hot, one_hot_categories),\n",
    "        ('cat2', categorical_transformer_target, target_categories)])"
   ]
  },
  {
   "cell_type": "code",
   "execution_count": 15,
   "id": "coupled-notification",
   "metadata": {},
   "outputs": [],
   "source": [
    "classifiers = [LogisticRegression(n_jobs=-1),\n",
    "               RandomForestClassifier(n_jobs=-1),\n",
    "               XGBClassifier(n_jobs=-1),\n",
    "               LGBMClassifier()]"
   ]
  },
  {
   "cell_type": "code",
   "execution_count": 20,
   "id": "labeled-model",
   "metadata": {},
   "outputs": [],
   "source": [
    "pipelines = []\n",
    "        \n",
    "for classifier in classifiers:\n",
    "    pipelines.append(make_pipeline(preprocessor,classifier,memory='./cache'))\n",
    "\n",
    "\n",
    "def fit_pipeline(pipe,xtrain,xtest,ytrain,ytest,overwrite_saved_models=False):\n",
    "    model_folder = './saved_models/'\n",
    "    file_name = re.sub('[^a-zA-Z0-9 \\n\\.]', '', list(pipe.named_steps.keys())[-1])\n",
    "    print(file_name)\n",
    "    if not os.path.exists(model_folder):\n",
    "        os.makedirs(model_folder)\n",
    "    if not Path(model_folder+file_name+'.joblib').is_file() or overwrite_saved_models:\n",
    "        start_time = time.time()\n",
    "        logs = 'Model '+file_name+'\\n'\n",
    "        print('Training started')\n",
    "        pipe.fit(xtrain, ytrain)\n",
    "        predictions = pipe.predict(xtest)\n",
    "        execution_time = (time.time() - start_time)\n",
    "        logs = logs + f'train duration {execution_time} \\n'\n",
    "        _confusion_matrix = confusion_matrix(ytest, predictions,normalize='true')\n",
    "        logs = logs + f'Confusion matrix \\n {_confusion_matrix} \\n'\n",
    "        f1score = f1_score(ytest, predictions)\n",
    "        logs = logs + f'f1 score:  {f1score}\\n '\n",
    "        print(logs)\n",
    "        with open('./logs'+file_name+'.txt', 'w') as f:\n",
    "            f.write(logs)\n",
    "        dump(pipe, model_folder+file_name+'.joblib')\n",
    "    print('Model trained')\n"
   ]
  },
  {
   "cell_type": "markdown",
   "id": "figured-northwest",
   "metadata": {},
   "source": [
    "#### Configurando la variable parallel en True se puede entrenar todos los modelos a la vez, sino se entrenan de forma secuencial"
   ]
  },
  {
   "cell_type": "code",
   "execution_count": 21,
   "id": "first-throw",
   "metadata": {},
   "outputs": [],
   "source": [
    "parallel = False"
   ]
  },
  {
   "cell_type": "code",
   "execution_count": 22,
   "id": "labeled-trauma",
   "metadata": {
    "scrolled": true
   },
   "outputs": [
    {
     "name": "stdout",
     "output_type": "stream",
     "text": [
      "Secuential\n",
      "logisticregression\n",
      "Training started\n",
      "Model logisticregression\n",
      "train duration 11.71224069595337 \n",
      "Confusion matrix \n",
      " [[0.78136954 0.21863046]\n",
      " [0.30279232 0.69720768]] \n",
      "f1 score:  0.0858124798625282\n",
      " \n",
      "Model trained\n",
      "randomforestclassifier\n",
      "Training started\n",
      "Model randomforestclassifier\n",
      "train duration 7.158640623092651 \n",
      "Confusion matrix \n",
      " [[0.78972698 0.21027302]\n",
      " [0.27643979 0.72356021]] \n",
      "f1 score:  0.09205815250878448\n",
      " \n",
      "Model trained\n",
      "xgbclassifier\n",
      "Training started\n"
     ]
    },
    {
     "name": "stderr",
     "output_type": "stream",
     "text": [
      "The use of label encoder in XGBClassifier is deprecated and will be removed in a future release. To remove this warning, do the following: 1) Pass option use_label_encoder=False when constructing XGBClassifier object; and 2) Encode your labels (y) as integers starting with 0, i.e. 0, 1, 2, ..., [num_class - 1].\n"
     ]
    },
    {
     "name": "stdout",
     "output_type": "stream",
     "text": [
      "[20:00:25] WARNING: D:\\bld\\xgboost-split_1643227225381\\work\\src\\learner.cc:1115: Starting in XGBoost 1.3.0, the default evaluation metric used with the objective 'binary:logistic' was changed from 'error' to 'logloss'. Explicitly set eval_metric if you'd like to restore the old behavior.\n",
      "Model xgbclassifier\n",
      "train duration 8.419881582260132 \n",
      "Confusion matrix \n",
      " [[0.79481354 0.20518646]\n",
      " [0.27408377 0.72591623]] \n",
      "f1 score:  0.09437643935698321\n",
      " \n",
      "Model trained\n",
      "lgbmclassifier\n",
      "Training started\n",
      "Model lgbmclassifier\n",
      "train duration 4.977113246917725 \n",
      "Confusion matrix \n",
      " [[0.78464173 0.21535827]\n",
      " [0.26431065 0.73568935]] \n",
      "f1 score:  0.09155919963076588\n",
      " \n",
      "Model trained\n"
     ]
    }
   ],
   "source": [
    "if parallel:\n",
    "    import multiprocessing\n",
    "    from workers import _fit_pipeline\n",
    "    print('Parallel')\n",
    "    params = [(pipe,X_train, X_test, y_train, y_test) for pipe in pipelines]\n",
    "    #%%\n",
    "    if __name__ ==  '__main__': \n",
    "        pool = multiprocessing.Pool()\n",
    "        pool.starmap(_fit_pipeline, params)\n",
    "        pool.close()\n",
    "        pool.join()\n",
    "else:\n",
    "    print(\"Secuential\")\n",
    "    for pipe in pipelines:\n",
    "        fit_pipeline(pipe,X_train, X_test, y_train, y_test,True)\n"
   ]
  },
  {
   "cell_type": "markdown",
   "id": "committed-wedding",
   "metadata": {},
   "source": [
    "### Seleccion de modelo\n",
    "\n",
    "Se tomara el Random forest classifier ya que fue el que mejores resultados obtuvo"
   ]
  },
  {
   "cell_type": "code",
   "execution_count": 25,
   "id": "educational-evidence",
   "metadata": {},
   "outputs": [
    {
     "name": "stderr",
     "output_type": "stream",
     "text": [
      "The use of label encoder in XGBClassifier is deprecated and will be removed in a future release. To remove this warning, do the following: 1) Pass option use_label_encoder=False when constructing XGBClassifier object; and 2) Encode your labels (y) as integers starting with 0, i.e. 0, 1, 2, ..., [num_class - 1].\n"
     ]
    },
    {
     "name": "stdout",
     "output_type": "stream",
     "text": [
      "[06:57:52] WARNING: D:\\bld\\xgboost-split_1643227225381\\work\\src\\learner.cc:1115: Starting in XGBoost 1.3.0, the default evaluation metric used with the objective 'binary:logistic' was changed from 'error' to 'logloss'. Explicitly set eval_metric if you'd like to restore the old behavior.\n",
      "training duration100.87797045707703 s\n",
      "{'classifier__subsample': 0.6, 'classifier__n_estimators': 100, 'classifier__min_child_weight': 5, 'classifier__max_depth': 3, 'classifier__gamma': 1, 'classifier__colsample_bytree': 0.6}\n",
      "0.7530731866135526\n"
     ]
    }
   ],
   "source": [
    "param_grid = {\n",
    "    'classifier__min_child_weight': [1, 5, 10],\n",
    "    'classifier__gamma': [0.5, 1, 1.5, 2, 5],\n",
    "    'classifier__subsample': [0.6, 0.8, 1.0],\n",
    "    'classifier__colsample_bytree': [0.6, 0.8, 1.0],\n",
    "    'classifier__max_depth': [3, 5, 7],\n",
    "    'classifier__n_estimators':[100,20,300]\n",
    "}\n",
    "\n",
    "#seleccionar el modelo para el crossvalidation\n",
    "modelname = 'xgbclassifier'\n",
    "\n",
    "clf = load(f'./saved_models/{modelname}.joblib') \n",
    "#renombrar el classifier dentro de la pipeline\n",
    "clf.steps.append(('classifier',clf.steps.pop(-1)[1]))\n",
    "\n",
    "cf_file = './saved_models/cv.joblib'\n",
    "\n",
    "if not Path(cf_file).is_file():\n",
    "    CV = RandomizedSearchCV(clf, param_grid, n_jobs=-1)\n",
    "    start_time = time.time()\n",
    "    CV.fit(X_train, y_train)  \n",
    "    print(f'training duration{(time.time() - start_time)} s')\n",
    "    dump(CV, cf_file)\n",
    "else:\n",
    "    CV = load(cf_file)\n",
    "\n",
    "print(CV.best_params_)    \n",
    "print(CV.best_score_)\n"
   ]
  },
  {
   "cell_type": "code",
   "execution_count": 26,
   "id": "continental-skating",
   "metadata": {},
   "outputs": [],
   "source": [
    "predictions = CV.predict(X_test)\n",
    "prob_predictions = CV.predict_proba(X_test)"
   ]
  },
  {
   "cell_type": "code",
   "execution_count": 57,
   "id": "black-ghost",
   "metadata": {
    "scrolled": true
   },
   "outputs": [
    {
     "name": "stdout",
     "output_type": "stream",
     "text": [
      "Precission: 0.9948520119720652\n",
      "Recall: 0.7843585555208877\n",
      "F1: 0.8771538358913761\n"
     ]
    }
   ],
   "source": [
    "model_metrics = precision_recall_fscore_support(y_test, predictions)\n",
    "print(f'Precission: {model_metrics[0][0]}')\n",
    "print(f'Recall: {model_metrics[1][0]}')\n",
    "print(f'F1: {model_metrics[2][0]}')"
   ]
  },
  {
   "cell_type": "markdown",
   "id": "uniform-venezuela",
   "metadata": {},
   "source": [
    "#### Matriz de confusion"
   ]
  },
  {
   "cell_type": "code",
   "execution_count": 31,
   "id": "proper-price",
   "metadata": {},
   "outputs": [
    {
     "name": "stderr",
     "output_type": "stream",
     "text": [
      "Function plot_confusion_matrix is deprecated; Function `plot_confusion_matrix` is deprecated in 1.0 and will be removed in 1.2. Use one of the class methods: ConfusionMatrixDisplay.from_predictions or ConfusionMatrixDisplay.from_estimator.\n"
     ]
    },
    {
     "data": {
      "text/plain": [
       "<sklearn.metrics._plot.confusion_matrix.ConfusionMatrixDisplay at 0x1cc11b1e388>"
      ]
     },
     "execution_count": 31,
     "metadata": {},
     "output_type": "execute_result"
    },
    {
     "data": {
      "image/png": "[encoded data removed]",
      "text/plain": [
       "<Figure size 432x288 with 2 Axes>"
      ]
     },
     "metadata": {
      "needs_background": "light"
     },
     "output_type": "display_data"
    }
   ],
   "source": [
    "plot_confusion_matrix(CV, X_test, y_test,\n",
    "                                 cmap=plt.cm.Blues,\n",
    "                                 normalize=None)"
   ]
  },
  {
   "cell_type": "markdown",
   "id": "favorite-feature",
   "metadata": {},
   "source": [
    "#### Matriz de confusion normalizada"
   ]
  },
  {
   "cell_type": "code",
   "execution_count": 32,
   "id": "gothic-concern",
   "metadata": {},
   "outputs": [
    {
     "name": "stderr",
     "output_type": "stream",
     "text": [
      "Function plot_confusion_matrix is deprecated; Function `plot_confusion_matrix` is deprecated in 1.0 and will be removed in 1.2. Use one of the class methods: ConfusionMatrixDisplay.from_predictions or ConfusionMatrixDisplay.from_estimator.\n"
     ]
    },
    {
     "data": {
      "text/plain": [
       "<sklearn.metrics._plot.confusion_matrix.ConfusionMatrixDisplay at 0x1cc52834c88>"
      ]
     },
     "execution_count": 32,
     "metadata": {},
     "output_type": "execute_result"
    },
    {
     "data": {
      "image/png": "[encoded data removed]",
      "text/plain": [
       "<Figure size 432x288 with 2 Axes>"
      ]
     },
     "metadata": {
      "needs_background": "light"
     },
     "output_type": "display_data"
    }
   ],
   "source": [
    "plot_confusion_matrix(CV, X_test, y_test,\n",
    "                                 cmap=plt.cm.Blues,\n",
    "                                 normalize='true')"
   ]
  },
  {
   "cell_type": "markdown",
   "id": "fantastic-princeton",
   "metadata": {},
   "source": [
    "#### Curva ROC"
   ]
  },
  {
   "cell_type": "code",
   "execution_count": 33,
   "id": "transsexual-contents",
   "metadata": {},
   "outputs": [
    {
     "name": "stdout",
     "output_type": "stream",
     "text": [
      "Best Threshold=0.476913, G-Mean=0.758\n"
     ]
    },
    {
     "data": {
      "image/png": "[encoded data removed]",
      "text/plain": [
       "<Figure size 432x288 with 1 Axes>"
      ]
     },
     "metadata": {
      "needs_background": "light"
     },
     "output_type": "display_data"
    }
   ],
   "source": [
    "# keep probabilities for the positive outcome only\n",
    "yhat = prob_predictions[:, 1]\n",
    "# calculate roc curves\n",
    "fpr, tpr, thresholds = roc_curve(y_test, yhat)\n",
    "# calculate the g-mean for each threshold\n",
    "gmeans = np.sqrt(tpr * (1-fpr))\n",
    "\n",
    "# locate the index of the largest g-mean\n",
    "ix = np.argmax(gmeans)\n",
    "print('Best Threshold=%f, G-Mean=%.3f' % (thresholds[ix], gmeans[ix]))\n",
    "\n",
    "\n",
    "# plot the roc curve for the model\n",
    "plt.plot([0,1], [0,1], linestyle='--', label='No Skill')\n",
    "plt.plot(fpr, tpr, marker='.', label='Random Forest')\n",
    "plt.scatter(fpr[ix], tpr[ix], s=100, marker='o', color='black', label='Best')\n",
    "# axis labels\n",
    "plt.xlabel('False Positive Rate')\n",
    "plt.ylabel('True Positive Rate')\n",
    "plt.legend()\n",
    "# show the plot\n",
    "plt.show()"
   ]
  },
  {
   "cell_type": "code",
   "execution_count": 34,
   "id": "framed-seventh",
   "metadata": {},
   "outputs": [
    {
     "data": {
      "text/plain": [
       "array([0.03882183, 0.00493515, 0.02490353, 0.01438609, 0.00881143,\n",
       "       0.00492893, 0.0060592 , 0.00524339, 0.00439652, 0.01126837,\n",
       "       0.        , 0.00801176, 0.00583246, 0.00435704, 0.        ,\n",
       "       0.0078992 , 0.        , 0.00462295, 0.00767044, 0.00335466,\n",
       "       0.        , 0.00183131, 0.01139002, 0.01398207, 0.        ,\n",
       "       0.06771532, 0.00869431, 0.01907496, 0.03785041, 0.00595635,\n",
       "       0.05958612, 0.1524732 , 0.01598467, 0.11975843, 0.0506534 ,\n",
       "       0.0103112 , 0.01344229, 0.028743  , 0.06487411, 0.07409478,\n",
       "       0.07808107], dtype=float32)"
      ]
     },
     "execution_count": 34,
     "metadata": {},
     "output_type": "execute_result"
    }
   ],
   "source": [
    "CV.best_estimator_.named_steps['classifier'].feature_importances_"
   ]
  },
  {
   "cell_type": "code",
   "execution_count": 35,
   "id": "incident-receptor",
   "metadata": {},
   "outputs": [
    {
     "data": {
      "image/png": "[encoded data removed]",
      "text/plain": [
       "<Figure size 432x288 with 1 Axes>"
      ]
     },
     "metadata": {
      "needs_background": "light"
     },
     "output_type": "display_data"
    }
   ],
   "source": [
    "skplt.metrics.plot_cumulative_gain(y_test, prob_predictions)\n",
    "plt.show()"
   ]
  },
  {
   "cell_type": "code",
   "execution_count": 36,
   "id": "interesting-pharmaceutical",
   "metadata": {
    "scrolled": true
   },
   "outputs": [
    {
     "data": {
      "image/png": "[encoded data removed]",
      "text/plain": [
       "<Figure size 432x288 with 1 Axes>"
      ]
     },
     "metadata": {
      "needs_background": "light"
     },
     "output_type": "display_data"
    }
   ],
   "source": [
    "skplt.metrics.plot_lift_curve(y_test, prob_predictions)\n",
    "plt.show()"
   ]
  },
  {
   "cell_type": "code",
   "execution_count": null,
   "id": "scientific-amount",
   "metadata": {},
   "outputs": [],
   "source": []
  }
 ],
 "metadata": {
  "kernelspec": {
   "display_name": "machine_learning_base",
   "language": "python",
   "name": "machine_learning_base"
  },
  "language_info": {
   "codemirror_mode": {
    "name": "ipython",
    "version": 3
   },
   "file_extension": ".py",
   "mimetype": "text/x-python",
   "name": "python",
   "nbconvert_exporter": "python",
   "pygments_lexer": "ipython3",
   "version": "3.7.11"
  }
 },
 "nbformat": 4,
 "nbformat_minor": 5
}
